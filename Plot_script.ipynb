{
 "cells": [
  {
   "cell_type": "code",
   "execution_count": 1,
   "metadata": {},
   "outputs": [
    {
     "name": "stdout",
     "output_type": "stream",
     "text": [
      "Welcome to JupyROOT 6.18/04\n",
      "3.6.8 (default, Aug  7 2019, 17:28:10) \n",
      "[GCC 4.8.5 20150623 (Red Hat 4.8.5-39)]\n"
     ]
    }
   ],
   "source": [
    "import ROOT as rt\n",
    "# import root_numpy as rtnp\n",
    "import csv\n",
    "import re\n",
    "import sys\n",
    "import collections\n",
    "\n",
    "from collections import OrderedDict\n",
    "import uproot\n",
    "import awkward\n",
    "import numpy as np\n",
    "import time\n",
    "#import numba\n",
    "#from numba import jit\n",
    "from matplotlib import pyplot as plt\n",
    "sys.path.append('/nfs/dust/cms/user/jschindl/Temp/delayed_jet_analyzer/lib/')\n",
    "from histo_utilities import create_TH1D, create_TH2D, std_color_list, create_TGraph\n",
    "\n",
    "import CMS_lumi, tdrstyle\n",
    "tdrstyle.setTDRStyle()\n",
    "CMS_lumi.writeExtraText = 0\n",
    "\n",
    "Z_MASS = 91.2\n",
    "\n",
    "\n",
    "# donotdelete = []\n",
    "print(sys.version)"
   ]
  },
  {
   "cell_type": "markdown",
   "metadata": {},
   "source": [
    "# Load ntuples"
   ]
  },
  {
   "cell_type": "code",
   "execution_count": 2,
   "metadata": {},
   "outputs": [
    {
     "name": "stdout",
     "output_type": "stream",
     "text": [
      "bbbb10m /nfs/dust/cms/user/jschindl/rechit_study_per_layer/outfile.root\n",
      "114984\n",
      "CPU times: user 89 ms, sys: 135 ms, total: 224 ms\n",
      "Wall time: 383 ms\n"
     ]
    }
   ],
   "source": [
    "%%time\n",
    "\n",
    "fpath_bkg =OrderedDict()\n",
    "tree_bkg = OrderedDict()\n",
    "tree_sig = OrderedDict()\n",
    "fpath_sig =OrderedDict()\n",
    "year = 2016\n",
    "cat = 2\n",
    "\n",
    "\n",
    "# path = '/mnt/hadoop/store/group/phys_exotica/delayedjets/displacedJetMuonAnalyzer/csc/V1p7/MC_Summer16/v11/v9/'\n",
    "path = '/nfs/dust/cms/user/jschindl/rechit_study_per_layer'\n",
    "\n",
    "\n",
    "bkg_path = path+\"/bkg/wH/normalized/\"\n",
    "# greater than one lepton, lepton 27 GeV cut, greater than 2 jets\n",
    "\n",
    "# fpath_bkg['QCD'] = bkg_path+\"QCD_HT50toInf_TuneCUETP8M1_13TeV-madgraphMLM-pythia8_1pb_weighted.root\"\n",
    "# fpath_bkg['DYJetsToLL'] = bkg_path+\"DYJetsToLL_M-50_TuneCUETP8M1_13TeV-amcatnloFXFX-pythia8_1pb_weighted.root\"\n",
    "# fpath_bkg['TTJets_DiLept'] = bkg_path+\"TTJets_DiLept_TuneCUETP8M1_13TeV-madgraphMLM-pythia8_1pb_weighted.root\"\n",
    "# fpath_bkg['TTJets_SingleLeptFromTbar'] = bkg_path+\"TTJets_SingleLeptFromTbar_TuneCUETP8M1_13TeV-madgraphMLM-pythia8_1pb_weighted.root\"\n",
    "# fpath_bkg['TTJets_SingleLeptFromT'] = bkg_path+\"TTJets_SingleLeptFromT_TuneCUETP8M1_13TeV-madgraphMLM-pythia8_1pb_weighted.root\"\n",
    "\n",
    "# fpath_bkg['WJetsToLNu'] = bkg_path+\"WJetsToLNu_TuneCUETP8M1_13TeV-amcatnloFXFX-pythia8_1pb_weighted.root\"\n",
    "# fpath_bkg['WJetsToLNu'] = bkg_path+\"WJetsToLNu_TuneCP5_13TeV-madgraphMLM-pythia8_1pb_weighted.root\"\n",
    "# fpath_bkg['WJetsToLNu_Pt100to250'] = bkg_path+\"WJetsToLNu_Pt-100To250_TuneCUETP8M1_13TeV-amcatnloFXFX-pythia8_1pb_weighted.root\"\n",
    "# fpath_bkg['WJetsToLNu_Pt250to400'] = bkg_path+\"WJetsToLNu_Pt-250To400_TuneCUETP8M1_13TeV-amcatnloFXFX-pythia8_1pb_weighted.root\"\n",
    "# fpath_bkg['WJetsToLNu_Pt600to600'] = bkg_path+\"WJetsToLNu_Pt-400To600_TuneCUETP8M1_13TeV-amcatnloFXFX-pythia8_1pb_weighted.root\"\n",
    "# fpath_bkg['WJetsToLNu_Pt600toInf'] = bkg_path+\"WJetsToLNu_Pt-600ToInf_TuneCUETP8M1_13TeV-amcatnloFXFX-pythia8_1pb_weighted.root\"\n",
    "\n",
    "# fpath_bkg['ZJetsToNuNu'] = bkg_path+\"ZJetsToNuNu_Zpt-100toInf_TuneCUETP8M1_13TeV-madgraphMLM-pythia8_1pb_weighted.root\"\n",
    "\n",
    "start_t = time.time()\n",
    "\n",
    "sig_path = path\n",
    "# fpath_bkg['bbbb10m'] = sig_path + 'WH_HToSSTobbbb_WToLNu_MH-125_MS-40_ctauS-10000_TuneCUETP8M1_13TeV-powheg-pythia8_1pb_weighted.root'\n",
    "# fpath_bkg['bbbb1m'] = sig_path + 'WH_HToSSTobbbb_WToLNu_MH-125_MS-40_ctauS-1000_TuneCUETP8M1_13TeV-powheg-pythia8_1pb_weighted.root'\n",
    "# fpath_bkg['bbbb55'] = sig_path + 'ZH_HToSSTobbbb_ZToLL_MH-125_MS-55_ctauS-1000_TuneCUETP8M1_13TeV-powheg-pythia8_1pb_weighted.root'\n",
    "fpath_bkg['bbbb10m'] = sig_path + '/outfile.root'\n",
    "\n",
    "\n",
    "\n",
    "# fpath_bkg['bbbb0.1m'] = sig_path + 'WH_HToSSTobbbb_WToLNu_MH-125_MS-40_ctauS-100_TuneCUETP8M1_13TeV-powheg-pythia8_1pb_weighted.root'\n",
    "\n",
    "if year == 2016:lumi = 35.92*1000 #in pb-1\n",
    "elif year == 2017:lumi = 41.53 * 1000\n",
    "else: lumi = 59.74 * 1000\n",
    "    \n",
    "\n",
    "NEvents = {}\n",
    "\n",
    "\n",
    "for k,v in fpath_bkg.items():\n",
    "    print (k, v)\n",
    "#     tree[k] = rtnp.root2array(v)\n",
    "    root_dir = uproot.open(v) \n",
    "\n",
    "    tree_bkg[k] = root_dir['ntuples']['llp']\n",
    "    NEvents[k] = root_dir['ntuples']['NEvents'][1]\n",
    "#     tree[k] = root_dir['ntuples']\n",
    "    a = tree_bkg[k][\"nGenLL\"].array()\n",
    "    print(len(a))\n",
    "\n"
   ]
  },
  {
   "cell_type": "markdown",
   "metadata": {},
   "source": [
    "# legend"
   ]
  },
  {
   "cell_type": "code",
   "execution_count": 3,
   "metadata": {},
   "outputs": [],
   "source": [
    "\n",
    "legend = {}\n",
    "legend['bbbb10m'] = 'signal c#tau = 10 m'\n",
    "legend['bbbb1m'] = 'signal c#tau = 1 m'\n",
    "legend['bbbb0.1m'] = 'signal c#tau = 0.1 m'\n",
    "\n",
    "legend['DYJetsToLL'] = 'DYJetsToLL'\n",
    "legend['WJetsToLNu'] = 'WJetsToLNu'"
   ]
  },
  {
   "cell_type": "markdown",
   "metadata": {},
   "source": [
    "# Helper Functions"
   ]
  },
  {
   "cell_type": "code",
   "execution_count": 4,
   "metadata": {},
   "outputs": [],
   "source": [
    "import math\n",
    "def deltaPhi( phi1,  phi2):\n",
    "\n",
    "    dphi = phi1-phi2\n",
    "    while (dphi > math.pi):\n",
    "        dphi -= 2*math.pi\n",
    "  \n",
    "    while (dphi <= -math.pi):\n",
    "        dphi += 2*math.pi\n",
    "    return dphi\n",
    "def deltaR(eta1, phi1, eta2, phi2):\n",
    "    dphi = deltaPhi(phi1,phi2)\n",
    "    deta = eta1 - eta2\n",
    "    return (dphi*dphi + deta*deta)**0.5"
   ]
  },
  {
   "cell_type": "markdown",
   "metadata": {},
   "source": [
    "# Load variables"
   ]
  },
  {
   "cell_type": "code",
   "execution_count": 5,
   "metadata": {
    "slideshow": {
     "slide_type": "notes"
    }
   },
   "outputs": [
    {
     "name": "stdout",
     "output_type": "stream",
     "text": [
      "CPU times: user 4.87 s, sys: 375 ms, total: 5.24 s\n",
      "Wall time: 5.05 s\n"
     ]
    }
   ],
   "source": [
    "%%time\n",
    "\n",
    "JET_PT_CUT = 10\n",
    "MUON_PT_CUT = 20\n",
    "\n",
    "nGenLL_inside_DT = {}\n",
    "\n",
    "nDtRecHits = {}\n",
    "DtRecHitsStation = {}\n",
    "DtRecHitsSector = {}\n",
    "DTRecHitsWheel = {}\n",
    "DTRecHitSuperLayer = {}\n",
    "DTRecHitLayer = {}\n",
    "nDTRecHitsperLayer = {}\n",
    "\n",
    "nDtSimHits = {}\n",
    "DtSimHitsStation = {}\n",
    "DtSimHitsSector = {}\n",
    "DTSimHitsWheel = {}\n",
    "DTSimHitSuperLayer = {}\n",
    "DTSimHitLayer = {}\n",
    "nDTSimHitsperLayer = {}\n",
    "\n",
    "GenBquarksvx = {}\n",
    "GenBquarksvy = {}\n",
    "GenBquarksvz = {}\n",
    "\n",
    "# gLLP_csc = {}\n",
    "# nCscWireDigis = {}\n",
    "# nCscStripDigis = {}\n",
    "# nCscSimHits = {}\n",
    "# nCscRecHits = {}\n",
    "# nCscRecHits_seg = {}\n",
    "# cscDetLayer_nCscRecHits = {}\n",
    "# cscDetLayer_nCscSimHits = {}\n",
    "# cscDetLayer_nWireDigis = {}\n",
    "# cscDetLayer_nStripDigis = {}\n",
    "# cscDetLayer_inME1112 = {}\n",
    "# cscDetLayer = {}\n",
    "\n",
    "# cscSimHitsX = {}\n",
    "# cscSimHitsY = {}\n",
    "# cscSimHitsZ = {}\n",
    "# cscRecHitsX = {}\n",
    "# cscRecHitsY = {}\n",
    "# cscRecHitsZ = {}\n",
    "# cscRecHitsDetId = {}\n",
    "\n",
    "\n",
    "# cscSimHitsDetId = {}\n",
    "# cscSimHitsParticleType = {}\n",
    "# cscSimHitsEnergyLoss = {}\n",
    "# gLLP_decay_vertex_x = {}\n",
    "# gLLP_decay_vertex_y = {}\n",
    "# gLLP_decay_vertex_z = {}\n",
    "# eventNum = {}\n",
    "# cscDetLayer_maxindex = {}\n",
    "\n",
    "# nCscWireDigiSimLink = {}\n",
    "# cscWireDigiSimLinkNWires = {}\n",
    "# nCscWireOccupancy = {}\n",
    "# cscWireDigiSimLinkMaxOccupancy = {}\n",
    "\n",
    "\n",
    "# nCscStripDigiSimLink = {}\n",
    "# cscStripDigiSimLinkNStrips = {}\n",
    "# nCscStripOccupancy = {}\n",
    "# cscStripDigiSimLinkMaxOccupancy = {}\n",
    "for k,T in tree_bkg.items():\n",
    "#     # if there's at least one LLP decay in csc\n",
    "    nGenLL_inside_DT[k] = T.array('nGenLL_inside_DT')\n",
    "    nDtRecHits[k] = T.array('nDtRecHits')\n",
    "    DtRecHitsStation[k] = T.array('DtRecHitsStation')\n",
    "    DtRecHitsSector[k] = T.array('DtRecHitsSector')\n",
    "    DTRecHitsWheel[k] = T.array('DTRecHitsWheel')\n",
    "    DTRecHitSuperLayer[k] = T.array('DTRecHitSuperLayer')\n",
    "    DTRecHitLayer[k] = T.array('DTRecHitLayer')\n",
    "    nDTRecHitsperLayer[k] = T.array('nDtRecHitsperLayer')\n",
    "\n",
    "    nDtSimHits[k] = T.array('nDtSimHits')\n",
    "    DtSimHitsStation[k] = T.array('DtSimHitsStation')\n",
    "    DtSimHitsSector[k] = T.array('DtSimHitsSector')\n",
    "    DTSimHitsWheel[k] = T.array('DTSimHitsWheel')\n",
    "    DTSimHitSuperLayer[k] = T.array('DTSimHitSuperLayer')\n",
    "    DTSimHitLayer[k] = T.array('DTSimHitLayer')\n",
    "    nDTSimHitsperLayer[k] = T.array('nDtSimHitsperLayer')\n",
    "    GenBquarksvx[k] = T.array('GenBquarks.vx')\n",
    "    GenBquarksvy[k] = T.array('GenBquarks.vy')\n",
    "    GenBquarksvz[k] = T.array('GenBquarks.vz')\n",
    "#     gLLP_csc[k] = np.sum(T.array('gLLP_csc'),axis=1)\n",
    "#     gLLP_decay_vertex_x[k] = T.array('gLLP_decay_vertex_x')\n",
    "#     gLLP_decay_vertex_y[k] = T.array('gLLP_decay_vertex_y')\n",
    "#     gLLP_decay_vertex_z[k] = T.array('gLLP_decay_vertex_z')\n",
    "#     nCscWireDigis[k] = T.array('nCscWireDigis')\n",
    "#     nCscStripDigis[k] = T.array('nCscStripDigis')\n",
    "#     nCscSimHits[k] = T.array('nCscSimHits')\n",
    "#     nCscRecHits[k] = T.array('nCscRecHits')\n",
    "#     nCscRecHits_seg[k] = T.array('cscSegNRecHits').sum()\n",
    "#     print(T.array('cscSegNRecHits'))\n",
    "    \n",
    "#     cscSimHitsX[k] = T.array('cscSimHitsX')\n",
    "#     cscSimHitsY[k] = T.array('cscSimHitsY')\n",
    "#     cscSimHitsZ[k] = T.array('cscSimHitsZ')\n",
    "\n",
    "#     cscRecHitsX[k] = T.array('cscRecHitsX')\n",
    "#     cscRecHitsY[k] = T.array('cscRecHitsY')\n",
    "#     cscRecHitsZ[k] = T.array('cscRecHitsZ')\n",
    "#     cscRecHitsDetId[k] = T.array('cscRecHitsDetId')\n",
    "#     cscSimHitsEnergyLoss[k] = T.array('cscSimHitsEnergyLoss').sum()\n",
    "#     cscSimHitsDetId[k] = T.array('cscSimHitsDetId')\n",
    "#     cscSimHitsParticleType[k] = T.array('cscSimHitsParticleType')\n",
    "    \n",
    "    \n",
    "#     nCscWireDigiSimLink[k] = T.array('nCscWireDigiSimLink')\n",
    "#     cscWireDigiSimLinkNWires[k] = T.array('cscWireDigiSimLinkNWires')\n",
    "#     nCscWireOccupancy[k] = 1.0*nCscWireDigiSimLink[k]/cscWireDigiSimLinkNWires[k]\n",
    "    \n",
    "#     nCscStripDigiSimLink[k] = T.array('nCscStripDigiSimLink')\n",
    "#     cscStripDigiSimLinkNStrips[k] = T.array('cscStripDigiSimLinkNStrips')\n",
    "#     nCscStripOccupancy[k] = 1.0*nCscStripDigiSimLink[k]/cscStripDigiSimLinkNStrips[k]\n",
    "    \n",
    "#     cscWireDigiSimLinkMaxOccupancy[k]  = T.array('cscWireDigiSimLinkOccupancy').max()\n",
    "#     cscStripDigiSimLinkMaxOccupancy[k]  = T.array('cscStripDigiSimLinkOccupancy').max()\n",
    "\n",
    "\n",
    "    \n",
    "# #     nCscDetLayer\n",
    "#     cscDetLayer_inME1112[k] = T.array('cscDetLayer_inME1112')\n",
    "#     cscDetLayer_nCscRecHits[k] = T.array('cscDetLayer_nCscRecHits')[np.logical_not(cscDetLayer_inME1112[k])]\n",
    "#     cscDetLayer_nCscSimHits[k] = T.array('cscDetLayer_nCscSimHits')[np.logical_not(cscDetLayer_inME1112[k])]\n",
    "#     cscDetLayer_nWireDigis[k] = T.array('cscDetLayer_nWireDigis')[np.logical_not(cscDetLayer_inME1112[k])]\n",
    "#     cscDetLayer_nStripDigis[k] = T.array('cscDetLayer_nStripDigis')[np.logical_not(cscDetLayer_inME1112[k])]\n",
    "#     cscDetLayer[k] =  T.array('cscDetLayer')[np.logical_not(cscDetLayer_inME1112[k])]\n",
    "# #     print( T.array('cscDetLayer_nCscRecHits'))\n",
    "    \n",
    "    \n",
    "#     # to plot simhits distribution\n",
    "#     eventNum[k] = T.array('eventNum')\n",
    "#     cscDetLayer_maxindex[k] = cscDetLayer_nCscSimHits[k].argmax()\n",
    "\n",
    "#     for i,ev in enumerate(eventNum[k]):\n",
    "#         if len(cscDetLayer_nCscSimHits[k][i]) == 0: continue\n",
    "#         max_index = np.argmax(cscDetLayer_nCscSimHits[k][i])\n",
    "        \n",
    "# #         muons = np.count_nonzero(np.logical_and(np.abs(cscSimHitsParticleType[k][i]) == 13, cscSimHitsDetId[k][i] == cscDetLayer_nCscSimHits[k][i][max_index]))\n",
    "# #         if muons>0:\n",
    "#         if cscDetLayer_nCscSimHits[k][i][max_index]<30 and cscDetLayer_nCscSimHits[k][i][max_index]>10 and gLLP_csc[k][i] == 1:\n",
    "#             print(ev,cscDetLayer[k][i][max_index],cscDetLayer_nCscSimHits[k][i][max_index], cscDetLayer_nCscRecHits[k][i][max_index],nCscSimHits[k][i], nCscRecHits[k][i],gLLP_csc[k][i])\n",
    "\n",
    "\n",
    "    \n",
    "    \n",
    "#     print(cscDetLayer_nCscSimHits[k].max())\n",
    "#     np.amax(\n",
    "#         cscDetLayer_nCscSimHits[k].max(), axis = 1)"
   ]
  },
  {
   "cell_type": "markdown",
   "metadata": {},
   "source": [
    "# 1D histogram"
   ]
  },
  {
   "cell_type": "code",
   "execution_count": 7,
   "metadata": {},
   "outputs": [],
   "source": [
    "\n",
    "k = 'bbbb10m'\n",
    "\n",
    "radius_cut = 100\n",
    "z_cut = 300\n",
    "\n",
    "\n",
    "radius = np.sqrt(GenBquarksvx[k].flatten()**2+GenBquarksvy[k].flatten()**2)\n",
    "radius = radius[::2]\n",
    "radius = np.array_split(radius,len(nDTSimHitsperLayer[k]))\n",
    "\n",
    "z = GenBquarksvz[k].flatten()[::2]\n",
    "z = np.array_split(z,len(nDTSimHitsperLayer[k]))\n",
    "\n",
    "\n",
    "nGenLL_insideCut = []\n",
    "for i, event in enumerate(radius):\n",
    "    tmp = []\n",
    "    for j, value in enumerate(event):\n",
    "        if value<radius_cut and abs(z[i][j])<z_cut:\n",
    "            tmp.append(1)\n",
    "    if len(tmp)==2:\n",
    "        nGenLL_insideCut.append(1)\n",
    "    else:\n",
    "        nGenLL_insideCut.append(0)\n",
    "nGenLL_insideCut = np.array(nGenLL_insideCut)\n"
   ]
  },
  {
   "cell_type": "code",
   "execution_count": 17,
   "metadata": {},
   "outputs": [
    {
     "name": "stdout",
     "output_type": "stream",
     "text": [
      "0.027621746063232422\n"
     ]
    },
    {
     "name": "stderr",
     "output_type": "stream",
     "text": [
      "Warning in <TCanvas::Constructor>: Deleting canvas with same name: c\n",
      "Warning in <TROOT::Append>: Replacing existing TH1: bbbb10m (Potential memory leak).\n",
      "Info in <TCanvas::Print>: pdf file /afs/desy.de/user/j/jschindl/temp_plots/RecHitPlot.pdf has been created\n"
     ]
    },
    {
     "data": {
      "image/png": "[encoded data removed]",
      "text/plain": [
       "<IPython.core.display.Image object>"
      ]
     },
     "metadata": {},
     "output_type": "display_data"
    }
   ],
   "source": [
    "# Plotting ncsc\n",
    "start_t = time.time()\n",
    "c = rt.TCanvas('c','c', 800, 800)\n",
    "h = {}\n",
    "# leg = rt.TLegend(0.50,0.75,0.97,0.93)\n",
    "leg = rt.TLegend(0.5,0.70,0.80,0.90)\n",
    "leg.SetTextSize(0.022)\n",
    "leg.SetBorderSize(0)\n",
    "# leg.SetTextFont(42)\n",
    "leg.SetEntrySeparation(0.01)\n",
    "maximum = 0\n",
    "\n",
    "variables = [nDtSimHits, nDtRecHits]\n",
    "names = ['nDtSimHits', 'nDtRecHits']\n",
    "bins = [[75,0,1500],[75,0,1500]]\n",
    "\n",
    "\n",
    "\n",
    "for i, k in enumerate(tree_bkg.keys()):\n",
    "\n",
    "    cond = nGenLL_inside_DT[k]\n",
    "    cond = nDtRecHits[k]*0+cond\n",
    "    cond = cond.flatten()\n",
    "    cond_2 = nGenLL_insideCut\n",
    "    cond_2 = nDtRecHits[k]*0+cond_2\n",
    "    cond_2 = cond_2.flatten()\n",
    "#     cond = np.logical_not(gLLP_csc[k])\n",
    "    #nWireDigis\n",
    "#     bins = [50,0,800]\n",
    "#     h[k] = create_TH1D( nCscWireDigis[k][cond], axis_title=['nCscWireDigis', 'Events'], name=k, binning=bins)\n",
    "#     h[k+'not'] = create_TH1D( nCscWireDigis[k][np.logical_not(cond)], axis_title=['nCscWireDigis', 'Events'], name=k, binning=bins)\n",
    "\n",
    "#     #nStripDigis\n",
    "    bins = [70,0,1500]\n",
    "    h[k] = create_TH1D( nDtRecHits[k][cond >= 1], axis_title=['nDtRecHits', 'Events'], name=k, binning=bins)\n",
    "    h[k+'not'] = create_TH1D( nDtRecHits[k][cond ==0], axis_title=['nDtRecHits', 'Events'], name=k, binning=bins)\n",
    "    \n",
    "    \n",
    "    #h[k] = create_TH1D( nDTRecHitsperLayer[k].flatten()[cond >= 1], axis_title=['nDtRecHitsperlayer', 'Events'], name=k, binning=bins)\n",
    "    #h[k+'not'] = create_TH1D( nDTRecHitsperLayer[k].flatten()[cond_2 ==1], axis_title=['nDtRecHitsperlayer', 'Events'], name=k, binning=bins)\n",
    "#     print(nCscStripDigis[k][np.logical_not(cond)])\n",
    "    \n",
    "#     #nSimHits\n",
    "#     bins = [75,0,4000]\n",
    "#     h[k] = create_TH1D( nCscSimHits[k][cond], axis_title=['nCscSimHits', 'Events'], name=k, binning=bins)\n",
    "#     h[k+'not'] = create_TH1D( nCscSimHits[k][np.logical_not(cond)], axis_title=['nCscSimHits', 'Events'], name=k, binning=bins)\n",
    "\n",
    "#     #nRecHits\n",
    "#     bins = [75,0,4000]\n",
    "#     h[k] = create_TH1D( nCscRecHits[k][cond], axis_title=['nCscRecHits', 'Events'], name=k, binning=bins)\n",
    "#     h[k+'not'] = create_TH1D( nCscRecHits[k][np.logical_not(cond)], axis_title=['nCscRecHits', 'Events'], name=k, binning=bins)\n",
    "    #     #nRecHits\n",
    "#     bins = [75,0,500]\n",
    "#     h[k] = create_TH1D( nCscRecHits_seg[k][cond >=1 ], axis_title=['nCscRecHits', 'Events'], name=k, binning=bins)\n",
    "#     h[k+'not'] = create_TH1D( nCscRecHits_seg[k][cond == 0], axis_title=['nCscRecHits', 'Events'], name=k, binning=bins)\n",
    "#     print(nCscRecHits_seg[k])\n",
    "#     #     #number of rechits per layer\n",
    "#     bins = [50,0,500]\n",
    "#     h[k] = create_TH1D( cscSimHitsEnergyLoss[k][cond >=1 ]*10000, axis_title=['Energy loss', 'Events'], name=k, binning=bins)\n",
    "#     h[k+'not'] = create_TH1D( cscSimHitsEnergyLoss[k][cond == 0]*10000, axis_title=['Energy loss', 'Events'], name=k, binning=bins)\n",
    "#     print(cscSimHitsEnergyLoss[k])\n",
    "\n",
    "    \n",
    "    \n",
    "#     #number of wiredigis per layer\n",
    "#     bins = [50,0,100]\n",
    "#     cond = cscDetLayer_nWireDigis[k]*0+cond\n",
    "#     cond = cond.flatten()\n",
    "#     h[k] = create_TH1D( cscDetLayer_nWireDigis[k].flatten()[cond >=1 ], axis_title=['nCscWireDigis per Layer', 'Events'], name=k, binning=bins)\n",
    "#     h[k+'not'] = create_TH1D( cscDetLayer_nWireDigis[k].flatten()[cond == 0], axis_title=['nCscWireDigis per Layer', 'Events'], name=k, binning=bins)\n",
    "\n",
    "    #number of stripdigis per layer\n",
    "#     bins = [50,0,100]\n",
    "#     cond = cscDetLayer_nStripDigis[k]*0+cond\n",
    "#     cond = cond.flatten()\n",
    "#     h[k] = create_TH1D( cscDetLayer_nStripDigis[k].flatten()[cond ==1 ], axis_title=['nCscStripDigis per Layer', 'Events'], name=k, binning=bins)\n",
    "#     h[k+'not'] = create_TH1D( cscDetLayer_nStripDigis[k].flatten()[cond == 0], axis_title=['nCscStripDigis per Layer', 'Events'], name=k, binning=bins)\n",
    "\n",
    "#     #number of max wiredigis\n",
    "#     bins = [50,0,100]\n",
    "#     h[k] = create_TH1D( cscDetLayer_nWireDigis[k][cond >=1 ], axis_title=['Max WireDigi per Layer', 'Events'], name=k, binning=bins)\n",
    "#     h[k+'not'] = create_TH1D( cscDetLayer_nWireDigis[k][cond == 0], axis_title=['Max WireDigi per Layer', 'Events'], name=k, binning=bins)\n",
    "\n",
    "#     #number of max strip\n",
    "#     bins = [50,0,100]\n",
    "#     h[k] = create_TH1D( cscDetLayer_nStripDigis[k][cond >=1 ], axis_title=['Max StripDigi per Layer', 'Events'], name=k, binning=bins)\n",
    "#     h[k+'not'] = create_TH1D( cscDetLayer_nStripDigis[k][cond == 0], axis_title=['Max StripDigi per Layer', 'Events'], name=k, binning=bins)\n",
    "\n",
    "#     #number of simhits per layer\n",
    "#     bins = [50,0,800]\n",
    "# #     cond = cscDetLayer_nCscRecHits[k]*0+cond\n",
    "# #     cond = cond.flatten()\n",
    "# #     h[k] = create_TH1D( cscDetLayer_nCscSimHits[k].flatten()[cond >=1 ], axis_title=['nCscSimHits per Layer', 'Events'], name=k, binning=bins)\n",
    "# #     h[k+'not'] = create_TH1D( cscDetLayer_nCscSimHits[k].flatten()[cond == 0], axis_title=['nCscSimHits per Layer', 'Events'], name=k, binning=bins)\n",
    "#     h[k] = create_TH1D( cscDetLayer_nCscSimHits[k].max()[cond >=1 ], axis_title=['nCscSimHits per Layer', 'Events'], name=k, binning=bins)\n",
    "#     h[k+'not'] = create_TH1D( cscDetLayer_nCscSimHits[k].max()[cond == 0], axis_title=['nCscSimHits per Layer', 'Events'], name=k, binning=bins)\n",
    "#     temp = np.count_nonzero(cscDetLayer_nCscSimHits[k].max()[cond >=1 ]<=100)/len(cscDetLayer_nCscSimHits[k].max()[cond >=1 ])\n",
    "#     print(temp)\n",
    "#     #number of rechits per layer\n",
    "#     bins = [50,0,500]\n",
    "#     cond = cscDetLayer_nCscRecHits[k]*0+cond\n",
    "#     cond = cond.flatten()\n",
    "#     h[k] = create_TH1D( cscDetLayer_nCscRecHits[k].flatten()[cond >=1 ], axis_title=['nCscRecHits per Layer', 'Events'], name=k, binning=bins)\n",
    "#     h[k+'not'] = create_TH1D( cscDetLayer_nCscRecHits[k].flatten()[cond == 0], axis_title=['nCscRecHits per Layer', 'Events'], name=k, binning=bins)\n",
    "\n",
    "# #     #number of nCscStripAvgOccupancy\n",
    "#     bins = [100,0,100]\n",
    "#     h[k] = create_TH1D( nCscStripOccupancy[k][cond >=1 ], axis_title=['CscStrip Digi Avg Occupancy', 'Events'], name=k, binning=bins)\n",
    "#     h[k+'not'] = create_TH1D( nCscStripOccupancy[k][cond == 0], axis_title=['CscStrip Digi Avg Occupancy', 'Events'], name=k, binning=bins)\n",
    "\n",
    "    # #     #number of nCscStripMaxOccupancy\n",
    "#     bins = [200,0,200]\n",
    "#     h[k] = create_TH1D( cscStripDigiSimLinkMaxOccupancy[k][cond >=1 ], axis_title=['CscStrip Digi Max Occupancy', 'Events'], name=k, binning=bins)\n",
    "#     h[k+'not'] = create_TH1D( cscStripDigiSimLinkMaxOccupancy[k][cond == 0], axis_title=['CscStrip Digi Max Occupancy', 'Events'], name=k, binning=bins)\n",
    "\n",
    "\n",
    "\n",
    "\n",
    "# #     #number of nCscWireOccupancy\n",
    "#     bins = [30,0,30]\n",
    "#     h[k] = create_TH1D( nCscWireOccupancy[k][cond >=1 ], axis_title=['CscWire Digi Avg Occupancy', 'Events'], name=k, binning=bins)\n",
    "#     h[k+'not'] = create_TH1D( nCscWireOccupancy[k][cond == 0], axis_title=['CscWire Digi Avg Occupancy', 'Events'], name=k, binning=bins)\n",
    "\n",
    "\n",
    "#     # #     #number of nCscWireMaxOccupancy\n",
    "#     bins = [200,0,200]\n",
    "#     h[k] = create_TH1D( cscWireDigiSimLinkMaxOccupancy[k][cond >=1 ], axis_title=['CscWire Digi Max Occupancy', 'Events'], name=k, binning=bins)\n",
    "#     h[k+'not'] = create_TH1D( cscWireDigiSimLinkMaxOccupancy[k][cond == 0], axis_title=['CscWire Digi Max Occupancy', 'Events'], name=k, binning=bins)\n",
    "\n",
    "\n",
    "\n",
    "\n",
    "\n",
    "\n",
    "\n",
    "    \n",
    "    \n",
    "    h[k].SetLineColor(std_color_list[i])\n",
    "    h[k+'not'].SetLineColor(std_color_list[i+1])\n",
    "\n",
    "\n",
    "    leg.AddEntry(h[k], 'At least 1 LLP decayed in DT')\n",
    "    leg.AddEntry(h[k+'not'], ' No LLP decayed inside the DT')\n",
    "    leg.SetTextSize(0.03)\n",
    "    h[k].SetMinimum(0.1)\n",
    "    maximum = max(maximum, h[k].GetMaximum() )\n",
    "    h[k].SetMaximum(maximum * 100)\n",
    "    h[k].GetXaxis().SetLabelSize(0.04)\n",
    "    h[k].DrawNormalized('same hist')\n",
    "    h[k+'not'].DrawNormalized('same hist')\n",
    "\n",
    "\n",
    "\n",
    "#     h[k].GetXaxis()\n",
    "\n",
    "\n",
    "    i+=1\n",
    "leg.Draw()\n",
    "\n",
    "\n",
    "# if setlog: \n",
    "c.SetLogy()\n",
    "c.Draw()\n",
    "c.SaveAs(\"/afs/desy.de/user/j/jschindl/temp_plots/RecHitPlot.pdf\")\n",
    "print(time.time()-start_t)"
   ]
  },
  {
   "cell_type": "markdown",
   "metadata": {},
   "source": [
    "# 2D plots per event"
   ]
  },
  {
   "cell_type": "code",
   "execution_count": 10,
   "metadata": {
    "scrolled": false
   },
   "outputs": [
    {
     "name": "stdout",
     "output_type": "stream",
     "text": [
      "0.1691749095916748\n"
     ]
    },
    {
     "name": "stderr",
     "output_type": "stream",
     "text": [
      "Warning in <TCanvas::Constructor>: Deleting canvas with same name: c\n",
      "Info in <TCanvas::Print>: pdf file /afs/desy.de/user/j/jschindl/temp_plots/Plots/2D_Hist_RecHitstudy_per_Layer_cut_2.pdf has been created\n",
      "Warning in <TCanvas::Constructor>: Deleting canvas with same name: c1\n",
      "Info in <TCanvas::Print>: pdf file /afs/desy.de/user/j/jschindl/temp_plots/Plots/Profile_RecHitstudy_per_Layer_cut_2.pdf has been created\n"
     ]
    },
    {
     "data": {
      "image/png": "[encoded data removed]",
      "text/plain": [
       "<IPython.core.display.Image object>"
      ]
     },
     "metadata": {},
     "output_type": "display_data"
    },
    {
     "data": {
      "image/png": "[encoded data removed]",
      "text/plain": [
       "<IPython.core.display.Image object>"
      ]
     },
     "metadata": {},
     "output_type": "display_data"
    }
   ],
   "source": [
    "# Plotting ncsc\n",
    "start_t = time.time()\n",
    "c = rt.TCanvas('c','c', 1000, 800)\n",
    "h = {}\n",
    "# leg = rt.TLegend(0.50,0.75,0.97,0.93)\n",
    "leg = rt.TLegend(0.58,0.70,0.94,0.85)\n",
    "leg.SetTextSize(0.022)\n",
    "# leg.SetTextFont(42)\n",
    "leg.SetEntrySeparation(0.01)\n",
    "\n",
    "i = 0\n",
    "k = 'bbbb10m'\n",
    "\n",
    "\n",
    "\n",
    "cond = nGenLL_inside_DT[k]\n",
    "#cond = nGenLL_insideCut\n",
    "\n",
    "cond = nDTSimHitsperLayer[k]*0+cond\n",
    "cond = cond.flatten()\n",
    "cond_2 = nGenLL_insideCut\n",
    "cond_2 = nDTRecHitsperLayer[k]*0+cond_2\n",
    "cond_2 = cond_2.flatten()\n",
    "\n",
    "\n",
    "# h[k] = create_TH2D(np.column_stack((nCscWireDigis[k][cond],nCscRecHits[k][cond])), axis_title = ['nWireDigis','nCscRecHits','Events'], binning=[100,0,800,200,0,3000])\n",
    "# h[k] = create_TH2D(np.column_stack((nCscStripDigis[k][cond],nCscRecHits[k][cond])), axis_title = ['nStripDigis','nCscRecHits','Events'], binning=[100,0,5000,200,0,3000])\n",
    "\n",
    "# h[k] = create_TH2D(np.column_stack((nCscWireDigis[k][cond],nCscSimHits[k][cond])), axis_title = ['nWireDigis','nCscSimHits','Events'], binning=[100,0,800,250,0,3000])\n",
    "# h[k] = create_TH2D(np.column_stack((nCscSimHits[k][cond >= 1],nCscStripDigis[k][cond >= 1])), axis_title = ['nCscSimHits','nStripDigis','Events'], binning=[100,0,5000,200,0,3000])\n",
    "\n",
    "h[k] = create_TH2D(np.column_stack((nDTSimHitsperLayer[k].flatten()[cond >0],nDTRecHitsperLayer[k].flatten()[cond >0])), axis_title = ['nDtSimHits','nDtRecHits','Events'], binning=[100,0,100,100,0,100])\n",
    "# h[k] = create_TH2D(np.column_stack((cscDetLayer_nCscSimHits[k].flatten()[cond>= 1 ], cscDetLayer_nCscRecHits[k].flatten()[cond >= 1 ])), axis_title = ['nCscSimHits','nCscRecHits','Events'], binning=[150,0,1000,150,0,600])\n",
    "\n",
    "# h[k] = create_TH2D(np.column_stack((cscDetLayer_nCscSimHits[k].flatten()[cond >= 1 ], cscDetLayer_nWireDigis[k].flatten()[cond >= 1 ])), axis_title = ['nCscSimHits','nCscWireDigis','Events'], binning=[150,0,1000,100,0,100])\n",
    "# h[k] = create_TH2D(np.column_stack((cscDetLayer_nCscSimHits[k].flatten()[cond >= 1 ], cscDetLayer_nStripDigis[k].flatten()[cond >= 1 ])), axis_title = ['nCscSimHits','nCscStripDigis','Events'], binning=[150,0,1000,100,0,100])\n",
    "\n",
    "\n",
    "\n",
    "# h[k] = create_TH2D(np.column_stack((nCscRecHits[k][cond],nCscSimHits[k][cond])), axis_title = ['nCscRecHits','nCscSimHits','Events'], binning=[150,0,2000,150,0,2000])\n",
    "\n",
    "\n",
    "\n",
    "# h[k] = create_TH2D(np.column_stack((nCscStripDigis[k][cond],nCscWireDigis[k][cond])), axis_title = ['nStripDigis','nWireDigis','Events'], binning=[150,0,5000,150,0,800])\n",
    "\n",
    "h[k].SetLineColor(std_color_list[i])\n",
    "# leg.AddEntry(h[k], k)\n",
    "#     h[k].SetMaximum(10E5)\n",
    "#     h[k].SetMinimum(1)\n",
    "h[k].Draw('colz')\n",
    "c.SetRightMargin(0.2)\n",
    "\n",
    "path = '/afs/desy.de/user/j/jschindl/temp_plots'\n",
    "\n",
    "# if setlog: \n",
    "c.SetLogz()\n",
    "c.Draw()\n",
    "c.SaveAs(path+\"/Plots/2D_Hist_RecHitstudy_per_Layer_cut_2.pdf\")\n",
    "\n",
    "c1 = rt.TCanvas('c1','c1', 1000, 800)\n",
    "profile = h[k].ProfileX(\"_pfx\",1,-1,\"\")\n",
    "\n",
    "#r = profile.Fit('pol1', 'RLSQ+')\n",
    "#print(r.Get())\n",
    "#print(r.Prob())\n",
    "#profile.GetFunction(\"pol1\").SetLineColor(std_color_list[2])\n",
    "#profile.GetFunction(\"pol1\").SetLineWidth(2)\n",
    "\n",
    "profile.GetXaxis().SetLabelSize(0.04)\n",
    "profile.GetYaxis().SetTitle('Avg nDtRecHits')\n",
    "\n",
    "\n",
    "\n",
    "\n",
    "profile.SetLineColor(std_color_list[i])\n",
    "# leg.AddEntry(h[k], k)\n",
    "#     h[k].SetMaximum(10E5)\n",
    "#     h[k].SetMinimum(1)\n",
    "profile.Draw('colz')\n",
    "c1.SetRightMargin(0.2)\n",
    "\n",
    "\n",
    "\n",
    "# if setlog: \n",
    "c1.SetLogz()\n",
    "c1.Draw()\n",
    "c1.SaveAs(path+\"/Plots/Profile_RecHitstudy_per_Layer_cut_2.pdf\")\n",
    "\n",
    "print(time.time()-start_t)\n",
    "\n",
    "\n",
    "# h[k].Delete()\n",
    "# Plotting ncsc\n",
    "\n",
    "\n"
   ]
  },
  {
   "cell_type": "code",
   "execution_count": 8,
   "metadata": {},
   "outputs": [
    {
     "ename": "NameError",
     "evalue": "name 'nCscRecHits_seg' is not defined",
     "output_type": "error",
     "traceback": [
      "\u001b[0;31m---------------------------------------------------------------------------\u001b[0m",
      "\u001b[0;31mNameError\u001b[0m                                 Traceback (most recent call last)",
      "\u001b[0;32m<ipython-input-8-6b0dffe1fdbf>\u001b[0m in \u001b[0;36m<module>\u001b[0;34m\u001b[0m\n\u001b[1;32m     11\u001b[0m \u001b[0mgr\u001b[0m \u001b[0;34m=\u001b[0m \u001b[0;34m{\u001b[0m\u001b[0;34m}\u001b[0m\u001b[0;34m\u001b[0m\u001b[0;34m\u001b[0m\u001b[0m\n\u001b[1;32m     12\u001b[0m \u001b[0;34m\u001b[0m\u001b[0m\n\u001b[0;32m---> 13\u001b[0;31m \u001b[0mvar\u001b[0m \u001b[0;34m=\u001b[0m \u001b[0;34m[\u001b[0m\u001b[0mnCscRecHits_seg\u001b[0m\u001b[0;34m,\u001b[0m \u001b[0mnCscRecHits\u001b[0m\u001b[0;34m,\u001b[0m\u001b[0;34m]\u001b[0m\u001b[0;34m\u001b[0m\u001b[0;34m\u001b[0m\u001b[0m\n\u001b[0m\u001b[1;32m     14\u001b[0m \u001b[0mname\u001b[0m \u001b[0;34m=\u001b[0m\u001b[0;34m[\u001b[0m\u001b[0;34m'nCscRecHits_seg'\u001b[0m\u001b[0;34m,\u001b[0m \u001b[0;34m'nCscRecHits'\u001b[0m\u001b[0;34m,\u001b[0m \u001b[0;34m]\u001b[0m\u001b[0;34m\u001b[0m\u001b[0;34m\u001b[0m\u001b[0m\n\u001b[1;32m     15\u001b[0m \u001b[0mlabel\u001b[0m \u001b[0;34m=\u001b[0m \u001b[0;34m[\u001b[0m\u001b[0;34m'nCscRecHits_seg'\u001b[0m\u001b[0;34m,\u001b[0m \u001b[0;34m'nCscRecHits'\u001b[0m\u001b[0;34m,\u001b[0m\u001b[0;34m]\u001b[0m\u001b[0;34m\u001b[0m\u001b[0;34m\u001b[0m\u001b[0m\n",
      "\u001b[0;31mNameError\u001b[0m: name 'nCscRecHits_seg' is not defined"
     ]
    },
    {
     "name": "stderr",
     "output_type": "stream",
     "text": [
      "Warning in <TCanvas::Constructor>: Deleting canvas with same name: c\n"
     ]
    }
   ],
   "source": [
    "#ROC curve\n",
    "c = rt.TCanvas('c','c', 850, 800)\n",
    "leg = rt.TLegend(0.5,0.80,0.85,0.90)\n",
    "leg = rt.TLegend(0.3,0.80,0.55,0.90)\n",
    "\n",
    "\n",
    "leg.SetTextSize(0.022)\n",
    "leg.SetBorderSize(0)\n",
    "\n",
    "leg.SetEntrySeparation(0.01)\n",
    "gr = {}\n",
    "\n",
    "var = [nCscRecHits_seg, nCscRecHits,]\n",
    "name =['nCscRecHits_seg', 'nCscRecHits', ]\n",
    "label = ['nCscRecHits_seg', 'nCscRecHits',]\n",
    "cond = [gLLP_csc[k]>=1, gLLP_csc[k] == 0]\n",
    "\n",
    "qcd_key = 'DYJetsToLL'\n",
    "thre = np.array(range(1000))\n",
    "k = 'bbbb10m'\n",
    "for i in range(len(var)):\n",
    "    eff = {}\n",
    "    eff['sig'] = []\n",
    "    eff['bkg'] = []\n",
    "        \n",
    "    for th in thre:\n",
    "        eff['sig'].append(1.0*np.count_nonzero(var[i][k][cond[0]]>th)/len(var[i][k][cond[0]]))\n",
    "        eff['bkg'].append(1.0*np.count_nonzero(var[i][k][cond[1]]>th)/len(var[i][k][cond[1]]))\n",
    "\n",
    "\n",
    "    eff['sig'] = np.array(eff['sig'])\n",
    "    eff['bkg'] = np.array(eff['bkg'])\n",
    "#     Plotting ROC curve\n",
    "    eff['sig'] = eff['sig'][np.logical_not(eff['bkg'] <= 0)]\n",
    "    eff['bkg'] = eff['bkg'][np.logical_not(eff['bkg'] <= 0)]\n",
    "    print(eff['bkg'].shape, eff['sig'].shape)\n",
    "#         gr[name[i]+sig_k] = create_TGraph(eff[sig_k],eff[qcd_key],axis_title = ['#epsilon_{sig}','background efficiency'])\n",
    "\n",
    "\n",
    "    gr[name[i]] = create_TGraph(np.reciprocal(eff['bkg']),eff['sig'],axis_title = ['background rejection','#epsilon_{sig}'])\n",
    "    gr[name[i]].SetLineColor(std_color_list[i])\n",
    "    gr[name[i]].SetLineWidth(2)\n",
    "    gr[name[i]].GetYaxis().SetTitleOffset(1.5)\n",
    "\n",
    "    gr[name[i]].GetYaxis().SetRangeUser(0,0.2)\n",
    "#     gr[name[i]].GetYaxis().SetRangeUser(0.0, 1.0)\n",
    "#         gr[name[i]].GetYaxis().SetRangeUser(1.0/np.max(eff['QCD']), 10000)\n",
    "\n",
    "\n",
    "    leg.AddEntry(gr[name[i]],label[i])\n",
    "\n",
    "    gr[name[i]].Draw('ac' if i==0 else 'c')\n",
    "    c.SetLeftMargin(0.2)\n",
    "    leg.Draw()\n",
    "    value = 0.3 #target signal efficiency\n",
    "    ind = np.abs(eff['sig']-value).argmin()\n",
    "#     ind = 110\n",
    "    print('sig',name[i],1.0/eff['bkg'][ind])\n",
    "#         print(name[i],eff[sig_k][ind])\n",
    "    print(thre[ind])\n",
    "\n",
    "c.SetLogx()\n",
    "c.Draw()\n",
    "# c.SaveAs('../plots/timing_studies/compare_timing_definition_ROC.png')\n",
    "\n",
    "\n",
    "\n"
   ]
  },
  {
   "cell_type": "markdown",
   "metadata": {},
   "source": [
    "# 2D plots per layer"
   ]
  },
  {
   "cell_type": "code",
   "execution_count": 57,
   "metadata": {},
   "outputs": [
    {
     "name": "stdout",
     "output_type": "stream",
     "text": [
      "[ 5 13 63]\n",
      "[0]\n",
      "0.2243480682373047\n"
     ]
    },
    {
     "name": "stderr",
     "output_type": "stream",
     "text": [
      "Warning in <TCanvas::Constructor>: Deleting canvas with same name: c\n"
     ]
    },
    {
     "data": {
      "image/png": "[encoded data removed]",
      "text/plain": [
       "<IPython.core.display.Image object>"
      ]
     },
     "metadata": {},
     "output_type": "display_data"
    }
   ],
   "source": [
    "# Plotting ncsc\n",
    "start_t = time.time()\n",
    "c = rt.TCanvas('c','c', 1000, 800)\n",
    "h = {}\n",
    "# leg = rt.TLegend(0.50,0.75,0.97,0.93)\n",
    "leg = rt.TLegend(0.58,0.70,0.94,0.85)\n",
    "leg.SetTextSize(0.022)\n",
    "# leg.SetTextFont(42)\n",
    "leg.SetEntrySeparation(0.01)\n",
    "\n",
    "j = 0\n",
    "k = 'bbbb10m'\n",
    "\n",
    "\n",
    "# DtRecHitsStation \n",
    "# DtRecHitsSector \n",
    "# DTRecHitsWheel \n",
    "# DTRecHitSuperLayer \n",
    "\n",
    "\n",
    "cond = nGenLL_inside_DT[k]\n",
    "# DTRecHitLayer_Sum = {}\n",
    "# tmp_array = []\n",
    "# print(len(DTRecHitLayer[k]))\n",
    "# for i,array in enumerate(DTRecHitLayer[k]):\n",
    "#     nRecHitperLayer = 0\n",
    "#     for j, hiti in enumerate(array):\n",
    "#         if DtRecHitsStation[k][i][j]== station_to_plot:\n",
    "#             if DtRecHitsSector[k][i][j]==sector_to_plot:\n",
    "#                 if DTRecHitsWheel[k][i][j]==wheel_to_plot:\n",
    "#                     if DTRecHitSuperLayer[k][i][j]==Sl_to_plot:\n",
    "#                         if hiti==l_to_plot:\n",
    "#                             nRecHitperLayer+=1\n",
    "                        \n",
    "            \n",
    "#     if i%1000==0:\n",
    "#         print(i)\n",
    "#     tmp_array.append(nRecHitperLayer)\n",
    "# DTRecHitLayer_Sum[k]=np.array(tmp_array)\n",
    "# print(len(DTSimHitLayer[k]))\n",
    "# DTSimHitLayer_Sum = {}\n",
    "# tmp_array = []\n",
    "# for i,array in enumerate(DTSimHitLayer[k]):\n",
    "#     nSimHitperLayer = 0\n",
    "#     for j, hiti in enumerate(array):\n",
    "#         if DtSimHitsStation[k][i][j]== station_to_plot:\n",
    "#             if DtSimHitsSector[k][i][j]==sector_to_plot:\n",
    "#                 if DTSimHitsWheel[k][i][j]==wheel_to_plot:\n",
    "#                     if DTSimHitSuperLayer[k][i][j]==Sl_to_plot:\n",
    "#                         if hiti==l_to_plot:\n",
    "#                             nSimHitperLayer+=1\n",
    "#     if i%1000==0:\n",
    "#         print(i)\n",
    "#     tmp_array.append(nSimHitperLayer)\n",
    "# DTSimHitLayer_Sum[k]=np.array(tmp_array)\n",
    "\n",
    "h[k] = create_TH2D(np.column_stack((DTRecHitLayer_Sum[k][cond],DTSimHitLayer_Sum[k][cond])), axis_title = ['nDtRecHits','nDtSimHits','Events'], binning=[60,0,60,60,0,300])\n",
    "\n",
    "\n",
    "# cond = cscDetLayer_nCscRecHits[k]*0+cond\n",
    "# cond = cond.flatten()\n",
    "# cond = (cond == 1)\n",
    "# print(len(cond),np.count_nonzero(cond))\n",
    "# print(len(cscDetLayer_nWireDigis[k].flatten()))\n",
    "# h[k] = create_TH2D(np.column_stack((cscDetLayer_nWireDigis[k].flatten()[cond],cscDetLayer_nCscRecHits[k].flatten()[cond])), axis_title = ['nWireDigis','nCscRecHits','Events'], binning=[100,0,100,100,0,500])\n",
    "\n",
    "# h[k] = create_TH2D(np.column_stack((cscDetLayer_nStripDigis[k].flatten()[cond],cscDetLayer_nCscRecHits[k].flatten()[cond])), axis_title = ['nStripDigis','nCscRecHits','Events'], binning=[50,0,100,50,0,100])\n",
    "\n",
    "\n",
    "# h[k] = create_TH2D(np.column_stack((cscDetLayer_nWireDigis[k].flatten()[cond],cscDetLayer_nCscSimHits[k].flatten()[cond])), axis_title = ['nWireDigis','nCscSimHits','Events'], binning=[100,0,100,250,0,1000])\n",
    "# h[k] = create_TH2D(np.column_stack((nCscStripDigis[k][cond],nCscSimHits[k][cond])), axis_title = ['nStripDigis','nCscSimHits','Events'], binning=[100,0,5000,200,0,3000])\n",
    "\n",
    "# h[k] = create_TH2D(np.column_stack((cscDetLayer_nCscRecHits[k].flatten()[cond],cscDetLayer_nCscSimHits[k].flatten()[cond])), axis_title = ['nCscRecHits','nCscSimHits','Events'], binning=[150,0,200,150,0,800])\n",
    "\n",
    "\n",
    "\n",
    "# h[k] = create_TH2D(np.column_stack((nCscStripDigis[k][cond],nCscWireDigis[k][cond])), axis_title = ['nStripDigis','nWireDigis','Events'], binning=[150,0,5000,150,0,800])\n",
    "\n",
    "h[k].GetXaxis().SetLabelSize(0.04)\n",
    "\n",
    "\n",
    "\n",
    "\n",
    "h[k].SetLineColor(std_color_list[j])\n",
    "# leg.AddEntry(h[k], k)\n",
    "#     h[k].SetMaximum(10E5)\n",
    "#     h[k].SetMinimum(1)\n",
    "h[k].Draw('colz')\n",
    "c.SetRightMargin(0.2)\n",
    "\n",
    "\n",
    "\n",
    "# if setlog: \n",
    "c.SetLogz()\n",
    "c.Draw()\n",
    "print(time.time()-start_t)"
   ]
  },
  {
   "cell_type": "markdown",
   "metadata": {},
   "source": [
    "# SimHit distribution per Layer"
   ]
  },
  {
   "cell_type": "code",
   "execution_count": 58,
   "metadata": {},
   "outputs": [
    {
     "name": "stdout",
     "output_type": "stream",
     "text": [
      "20\n",
      "21\n",
      "15\n",
      "19\n",
      "0\n",
      "0\n",
      "[139.24751 137.23349 137.27115 138.99098 138.90771 137.15454 142.48595\n",
      " 143.86221 149.5309  146.94652 147.00357 148.71863 147.03104 146.97783\n",
      " 146.92065 133.37749 140.882   141.11513 134.65558 134.87656]\n",
      "[-530.8045  -531.1113  -530.9534  -528.7419  -528.76105 -526.53644\n",
      " -548.13464 -545.5549  -556.1927  -558.4537  -558.67346 -568.353\n",
      " -559.07477 -557.6948  -557.789   -522.0904  -546.69196 -546.5215\n",
      " -518.37134 -518.3311 ]\n",
      "[490, -13.0, 11.5, 251, -40.0, 35.5]\n",
      "141.65947 -541.9418 -922.9681\n",
      "[[ 2.6142578 13.337219 ]] [[ 39.060913 405.22748 ]] [[ 47.24768 425.5171 ]]\n",
      "20.0 20 [1.0, 1.0, 1.0, 1.0, 1.0, 1.0, 1.0, 1.0, 1.0, 1.0, 1.0, 1.0, 1.0, 1.0, 1.0, 1.0, 1.0, 1.0, 1.0, 1.0]\n",
      "CPU times: user 3.57 s, sys: 2.68 s, total: 6.25 s\n",
      "Wall time: 6.23 s\n"
     ]
    },
    {
     "name": "stderr",
     "output_type": "stream",
     "text": [
      "Warning in <TCanvas::Constructor>: Deleting canvas with same name: c\n",
      "Warning in <TROOT::Append>: Replacing existing TH1: bbbb10m (Potential memory leak).\n"
     ]
    },
    {
     "data": {
      "image/png": "[encoded data removed]",
      "text/plain": [
       "<IPython.core.display.Image object>"
      ]
     },
     "metadata": {},
     "output_type": "display_data"
    }
   ],
   "source": [
    "%%time\n",
    "c = rt.TCanvas('c','c', 1000, 800)\n",
    "h = {}\n",
    "# leg = rt.TLegend(0.50,0.75,0.97,0.93)\n",
    "leg = rt.TLegend(0.58,0.70,0.94,0.85)\n",
    "leg.SetTextSize(0.022)\n",
    "# leg.SetTextFont(42)\n",
    "leg.SetEntrySeparation(0.01)\n",
    "\n",
    "ev = 88785\n",
    "detid = 604058214\n",
    "ev = 134356  \n",
    "detid = 604058858\n",
    "#   22 12 403 647 1\n",
    "\n",
    "#   26 20 177 125 1\n",
    "#   17 0 64 70 1\n",
    "\n",
    "ev_cond = eventNum[k] == ev\n",
    "cond = cscSimHitsDetId[k][ev_cond] == detid+1\n",
    "print(len(cscSimHitsX[k][ev_cond][cscSimHitsDetId[k][ev_cond] == detid+1][0]))\n",
    "print(len(cscSimHitsX[k][ev_cond][cscSimHitsDetId[k][ev_cond] == detid+2][0]))\n",
    "print(len(cscSimHitsX[k][ev_cond][cscSimHitsDetId[k][ev_cond] == detid+3][0]))\n",
    "print(len(cscSimHitsX[k][ev_cond][cscSimHitsDetId[k][ev_cond] == detid-1][0]))\n",
    "print(len(cscSimHitsX[k][ev_cond][cscSimHitsDetId[k][ev_cond] == detid-2][0]))\n",
    "print(len(cscSimHitsX[k][ev_cond][cscSimHitsDetId[k][ev_cond] == detid-3][0]))\n",
    "\n",
    "\n",
    "\n",
    "meanx = np.mean(cscSimHitsX[k][ev_cond][cond][0])\n",
    "meany = np.mean(cscSimHitsY[k][ev_cond][cond][0])\n",
    "meanz = np.mean(cscSimHitsZ[k][ev_cond][cond][0])\n",
    "\n",
    "print(cscSimHitsX[k][ev_cond][cond][0])\n",
    "print(cscSimHitsY[k][ev_cond][cond][0])\n",
    "# print(cscSimHitsParticleType[k][ev_cond][cond][0])\n",
    "# print(cscSimHitsX[k][ev_cond][cond][0][0]-meanx,cscSimHitsY[k][ev_cond][cond][0][0]-meany)\n",
    "xmax = int(np.max(cscSimHitsX[k][ev_cond][cond][0])-meanx) * 1.5 +1\n",
    "xmin = int(np.min(cscSimHitsX[k][ev_cond][cond][0])-meanx) * 1.5 -1\n",
    "ymax = int(np.max(cscSimHitsY[k][ev_cond][cond][0])-meany) * 1.5 +1\n",
    "ymin = int(np.min(cscSimHitsY[k][ev_cond][cond][0])-meany) * 1.5 -1\n",
    "# xmax,xmin,ymax,ymin = 30,-30,20,-20\n",
    "\n",
    "xnbin = (xmax-xmin)/0.05\n",
    "ynbin = (ymax-ymin)/0.3\n",
    "bins = [int(xnbin),xmin,xmax,int(ynbin),ymin,ymax]\n",
    "print(bins)\n",
    "print(meanx,meany,meanz)\n",
    "print(gLLP_decay_vertex_x[k][ev_cond]-meanx, gLLP_decay_vertex_y[k][ev_cond]-meany, gLLP_decay_vertex_z[k][ev_cond]-meanz)\n",
    "h[k] = create_TH2D(np.column_stack((cscSimHitsX[k][ev_cond][cond][0]-meanx,cscSimHitsY[k][ev_cond][cond][0]-meany)), axis_title = ['X[cm]','Y[cm]','Events'], binning=bins)\n",
    "\n",
    "h[k].SetMinimum(.1)\n",
    "h[k].SetMaximum(10)\n",
    "\n",
    "\n",
    "h[k].Draw('colz')\n",
    "c.SetLogz()\n",
    "c.SetRightMargin(0.2)\n",
    "c.Draw()\n",
    "\n",
    "ll = []\n",
    "for i in range(1,h[k].GetNbinsX() + 1):\n",
    "    for j in range(1,h[k].GetNbinsY() + 1):\n",
    "        temp = h[k].GetBinContent(i,j)\n",
    "        if temp > 0:\n",
    "            ll.append(temp)\n",
    "print(sum(ll),len(ll),ll)\n",
    "histo = create_TH1D( ll, axis_title=['nSimHits', 'Events'], name=k, binning=[int(max(ll)),0,int(max(ll))])"
   ]
  },
  {
   "cell_type": "code",
   "execution_count": 59,
   "metadata": {},
   "outputs": [
    {
     "name": "stdout",
     "output_type": "stream",
     "text": [
      "[490, -13.0, 11.5, 251, -40.0, 35.5]\n",
      "141.65947 -541.9418 -922.9681\n",
      "[[ 2.6142578 13.337219 ]] [[ 39.060913 405.22748 ]] [[ 47.24768 425.5171 ]]\n",
      "[-78.8824    -76.30316   -74.19941    -7.184723   -1.6389618   2.8841248\n",
      "  -4.611862    1.0366974   5.6436768  -1.5316925   4.2421417   8.950912 ]\n",
      "9.0 9 [1.0, 1.0, 1.0, 1.0, 1.0, 1.0, 1.0, 1.0, 1.0]\n",
      "CPU times: user 1.3 s, sys: 1.11 s, total: 2.41 s\n",
      "Wall time: 2.4 s\n"
     ]
    },
    {
     "name": "stderr",
     "output_type": "stream",
     "text": [
      "Warning in <TCanvas::Constructor>: Deleting canvas with same name: c\n",
      "Warning in <TROOT::Append>: Replacing existing TH1: bbbb10m (Potential memory leak).\n"
     ]
    },
    {
     "data": {
      "image/png": "[encoded data removed]",
      "text/plain": [
       "<IPython.core.display.Image object>"
      ]
     },
     "metadata": {},
     "output_type": "display_data"
    }
   ],
   "source": [
    "%%time\n",
    "c = rt.TCanvas('c','c', 1000, 800)\n",
    "h = {}\n",
    "# leg = rt.TLegend(0.50,0.75,0.97,0.93)\n",
    "leg = rt.TLegend(0.58,0.70,0.94,0.85)\n",
    "leg.SetTextSize(0.022)\n",
    "# leg.SetTextFont(42)\n",
    "leg.SetEntrySeparation(0.01)\n",
    "\n",
    "# ev = 17344  \n",
    "# detid = 604021398\n",
    "\n",
    "ev_cond = eventNum[k] == ev\n",
    "\n",
    "cond = cscRecHitsDetId[k][ev_cond] == detid\n",
    "\n",
    "\n",
    "# meanx = np.mean(cscRecHitsX[k][ev_cond][cond][0])\n",
    "# meany = np.mean(cscRecHitsY[k][ev_cond][cond][0])\n",
    "# meanz = np.mean(cscRecHitsZ[k][ev_cond][cond][0])\n",
    "\n",
    "\n",
    "# print(cscSimHitsParticleType[k][ev_cond][cond][0])\n",
    "# print(cscSimHitsX[k][ev_cond][cond][0][0]-meanx,cscSimHitsY[k][ev_cond][cond][0][0]-meany)\n",
    "# xmax = int(np.max(cscRecHitsX[k][ev_cond][cond][0])-meanx) * 1.1\n",
    "# xmin = int(np.min(cscRecHitsX[k][ev_cond][cond][0])-meanx) * 1.1\n",
    "# ymax = int(np.max(cscRecHitsY[k][ev_cond][cond][0])-meany) * 1.5 +1\n",
    "# ymin = int(np.min(cscRecHitsY[k][ev_cond][cond][0])-meany) * 1.5 -1\n",
    "# xmax,xmin,ymax,ymin = 40,-40,40,-40\n",
    "\n",
    "# xnbin = (xmax-xmin)\n",
    "# ynbin = (ymax-ymin)\n",
    "# bins = [int(xnbin),xmin,xmax,int(ynbin),ymin,ymax]\n",
    "print(bins)\n",
    "print(meanx,meany,meanz)\n",
    "print(gLLP_decay_vertex_x[k][ev_cond]-meanx, gLLP_decay_vertex_y[k][ev_cond]-meany, gLLP_decay_vertex_z[k][ev_cond]-meanz)\n",
    "h[k] = create_TH2D(np.column_stack((cscRecHitsX[k][ev_cond][cond][0]-meanx,cscRecHitsY[k][ev_cond][cond][0]-meany)), axis_title = ['X[cm]','Y[cm]','Events'], binning=bins)\n",
    "print(cscRecHitsX[k][ev_cond][cond][0]-meanx)\n",
    "h[k].SetMinimum(.1)\n",
    "h[k].SetMaximum(10)\n",
    "\n",
    "\n",
    "h[k].Draw('colz')\n",
    "c.SetLogz()\n",
    "c.SetRightMargin(0.2)\n",
    "# rt.enableJSVis()\n",
    "c.Draw()\n",
    "\n",
    "ll = []\n",
    "for i in range(1,h[k].GetNbinsX() + 1):\n",
    "    for j in range(1,h[k].GetNbinsY() + 1):\n",
    "        temp = h[k].GetBinContent(i,j)\n",
    "        if temp > 0:\n",
    "            ll.append(temp)\n",
    "print(sum(ll),len(ll),ll)\n",
    "histo = create_TH1D( ll, axis_title=['nSimHits', 'Events'], name=k, binning=[int(max(ll)),0,int(max(ll))])"
   ]
  },
  {
   "cell_type": "markdown",
   "metadata": {},
   "source": [
    "# Occupancy plot"
   ]
  },
  {
   "cell_type": "code",
   "execution_count": 53,
   "metadata": {},
   "outputs": [
    {
     "name": "stdout",
     "output_type": "stream",
     "text": [
      "CPU times: user 470 µs, sys: 0 ns, total: 470 µs\n",
      "Wall time: 479 µs\n"
     ]
    },
    {
     "name": "stderr",
     "output_type": "stream",
     "text": [
      "Warning in <TCanvas::Constructor>: Deleting canvas with same name: c\n"
     ]
    },
    {
     "data": {
      "image/png": "[encoded data removed]",
      "text/plain": [
       "<IPython.core.display.Image object>"
      ]
     },
     "metadata": {},
     "output_type": "display_data"
    }
   ],
   "source": [
    "%%time\n",
    "c = rt.TCanvas('c','c', 1000, 800)\n",
    "h = {}\n",
    "# leg = rt.TLegend(0.50,0.75,0.97,0.93)\n",
    "leg = rt.TLegend(0.58,0.70,0.94,0.85)\n",
    "leg.SetTextSize(0.022)\n",
    "# leg.SetTextFont(42)\n",
    "leg.SetEntrySeparation(0.01)\n",
    "\n",
    "\n",
    "\n",
    "\n",
    "histo.DrawNormalized('')\n",
    "c.SetLogy()\n",
    "c.SetRightMargin(0.2)\n",
    "# rt.enableJSVis()\n",
    "c.Draw()\n",
    "\n"
   ]
  },
  {
   "cell_type": "code",
   "execution_count": null,
   "metadata": {},
   "outputs": [],
   "source": []
  },
  {
   "cell_type": "code",
   "execution_count": null,
   "metadata": {},
   "outputs": [],
   "source": []
  },
  {
   "cell_type": "markdown",
   "metadata": {
    "heading_collapsed": true
   },
   "source": [
    "# Occupancy per event"
   ]
  },
  {
   "cell_type": "code",
   "execution_count": null,
   "metadata": {},
   "outputs": [],
   "source": [
    "avg_occupancy = []\n",
    "max_occupancy = []\n",
    "for i in range(len(eventNum[k])):\n",
    "    if len(cscDetLayer_nCscSimHits[k][i]) == 0: continue\n",
    "    max_index = np.argmax(cscDetLayer_nCscSimHits[k][i])\n",
    "\n",
    "#     if cscDetLayer_nCscSimHits[k][i][max_index]>750 and gLLP_csc[k][i] == 1:\n",
    "#         print(ev,cscDetLayer[k][i][max_index],cscDetLayer_nCscSimHits[k][i][max_index], nCscSimHits[k][i], gLLP_csc[k][i])\n",
    "\n",
    "    cond = cscSimHitsDetId[k][ev_cond] == detid\n",
    "    meanx = np.mean(cscSimHitsX[k][ev_cond][cond][0])\n",
    "    meany = np.mean(cscSimHitsY[k][ev_cond][cond][0])\n",
    "    meanz = np.mean(cscSimHitsZ[k][ev_cond][cond][0])\n",
    "\n",
    "    xmax = int(np.max(cscSimHitsX[k][ev_cond][cond][0])-meanx) * 1.1\n",
    "    xmin = int(np.min(cscSimHitsX[k][ev_cond][cond][0])-meanx) * 1.1\n",
    "    ymax = int(np.max(cscSimHitsY[k][ev_cond][cond][0])-meany) * 1.5 +1\n",
    "    ymin = int(np.min(cscSimHitsY[k][ev_cond][cond][0])-meany) * 1.5 -1\n",
    "    # xmax,xmin,ymax,ymin = 20,-20,20,-20\n",
    "\n",
    "    xnbin = (xmax-xmin)/0.05\n",
    "    ynbin = (ymax-ymin)/0.3\n",
    "    bins = [int(xnbin),xmin,xmax,int(ynbin),ymin,ymax]\n",
    "#     print(bins)\n",
    "#     print(meanx,meany,meanz)\n",
    "#     print(gLLP_decay_vertex_x[k][ev_cond]-meanx, gLLP_decay_vertex_y[k][ev_cond]-meany, gLLP_decay_vertex_z[k][ev_cond]-meanz)\n",
    "    h[k] = create_TH2D(np.column_stack((cscSimHitsX[k][ev_cond][cond][0]-meanx,cscSimHitsY[k][ev_cond][cond][0]-meany)), axis_title = ['X[cm]','Y[cm]','Events'], binning=bins)\n",
    "    # print(cscSimHitsY[k][ev_cond][cond][0])\n",
    "\n",
    "\n",
    "    ll = []\n",
    "    for i in range(1,h[k].GetNbinsX() + 1):\n",
    "        for j in range(1,h[k].GetNbinsY() + 1):\n",
    "            temp = h[k].GetBinContent(i,j)\n",
    "            if temp > 0:\n",
    "                ll.append(temp)\n",
    "    print(sum(ll),ll)\n",
    "    histo = create_TH1D( ll, axis_title=['nSimHits', 'Events'], name=k, binning=[int(max(ll)),0,int(max(ll))])"
   ]
  },
  {
   "cell_type": "code",
   "execution_count": null,
   "metadata": {
    "hidden": true
   },
   "outputs": [],
   "source": []
  },
  {
   "cell_type": "code",
   "execution_count": null,
   "metadata": {
    "hidden": true
   },
   "outputs": [],
   "source": []
  },
  {
   "cell_type": "markdown",
   "metadata": {},
   "source": [
    "# significance"
   ]
  },
  {
   "cell_type": "code",
   "execution_count": null,
   "metadata": {},
   "outputs": [],
   "source": []
  },
  {
   "cell_type": "code",
   "execution_count": null,
   "metadata": {},
   "outputs": [],
   "source": [
    "\n"
   ]
  },
  {
   "cell_type": "code",
   "execution_count": null,
   "metadata": {
    "hidden": true
   },
   "outputs": [],
   "source": []
  },
  {
   "cell_type": "code",
   "execution_count": null,
   "metadata": {
    "hidden": true
   },
   "outputs": [],
   "source": []
  },
  {
   "cell_type": "code",
   "execution_count": null,
   "metadata": {
    "hidden": true
   },
   "outputs": [],
   "source": []
  },
  {
   "cell_type": "code",
   "execution_count": null,
   "metadata": {},
   "outputs": [],
   "source": []
  },
  {
   "cell_type": "code",
   "execution_count": null,
   "metadata": {
    "hidden": true
   },
   "outputs": [],
   "source": []
  },
  {
   "cell_type": "code",
   "execution_count": null,
   "metadata": {},
   "outputs": [],
   "source": []
  },
  {
   "cell_type": "code",
   "execution_count": null,
   "metadata": {},
   "outputs": [],
   "source": []
  },
  {
   "cell_type": "code",
   "execution_count": null,
   "metadata": {},
   "outputs": [],
   "source": []
  },
  {
   "cell_type": "code",
   "execution_count": null,
   "metadata": {},
   "outputs": [],
   "source": []
  },
  {
   "cell_type": "code",
   "execution_count": null,
   "metadata": {},
   "outputs": [],
   "source": []
  },
  {
   "cell_type": "code",
   "execution_count": null,
   "metadata": {},
   "outputs": [],
   "source": [
    "\n"
   ]
  },
  {
   "cell_type": "code",
   "execution_count": null,
   "metadata": {},
   "outputs": [],
   "source": []
  },
  {
   "cell_type": "code",
   "execution_count": null,
   "metadata": {},
   "outputs": [],
   "source": []
  },
  {
   "cell_type": "code",
   "execution_count": null,
   "metadata": {},
   "outputs": [],
   "source": []
  },
  {
   "cell_type": "code",
   "execution_count": null,
   "metadata": {},
   "outputs": [],
   "source": []
  },
  {
   "cell_type": "code",
   "execution_count": null,
   "metadata": {},
   "outputs": [],
   "source": []
  },
  {
   "cell_type": "code",
   "execution_count": null,
   "metadata": {},
   "outputs": [],
   "source": []
  },
  {
   "cell_type": "code",
   "execution_count": null,
   "metadata": {},
   "outputs": [],
   "source": []
  },
  {
   "cell_type": "code",
   "execution_count": null,
   "metadata": {},
   "outputs": [],
   "source": []
  },
  {
   "cell_type": "code",
   "execution_count": null,
   "metadata": {},
   "outputs": [],
   "source": []
  },
  {
   "cell_type": "code",
   "execution_count": null,
   "metadata": {},
   "outputs": [],
   "source": []
  },
  {
   "cell_type": "code",
   "execution_count": null,
   "metadata": {},
   "outputs": [],
   "source": []
  }
 ],
 "metadata": {
  "kernelspec": {
   "display_name": "Python 3",
   "language": "python",
   "name": "python3"
  },
  "language_info": {
   "codemirror_mode": {
    "name": "ipython",
    "version": 3
   },
   "file_extension": ".py",
   "mimetype": "text/x-python",
   "name": "python",
   "nbconvert_exporter": "python",
   "pygments_lexer": "ipython3",
   "version": "3.6.8"
  }
 },
 "nbformat": 4,
 "nbformat_minor": 4
}
